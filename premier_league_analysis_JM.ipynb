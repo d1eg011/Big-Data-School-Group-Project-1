{
 "cells": [
  {
   "cell_type": "markdown",
   "metadata": {},
   "source": [
    "# Premier League Data Analysis"
   ]
  },
  {
   "cell_type": "code",
   "execution_count": 1,
   "metadata": {},
   "outputs": [],
   "source": [
    "import pandas as pd"
   ]
  },
  {
   "cell_type": "code",
   "execution_count": 2,
   "metadata": {},
   "outputs": [],
   "source": [
    "df = pd.read_csv(\"premier_league_data.csv\")"
   ]
  },
  {
   "cell_type": "markdown",
   "metadata": {},
   "source": [
    "The dataset comes from the Fantasy Football game _Biwenger_ and contains information about all Premier League players in the 2024-2025 season.  \n",
    "It includes **616 players** and **9 columns**, capturing both real life performance and market value metrics."
   ]
  },
  {
   "cell_type": "markdown",
   "metadata": {},
   "source": [
    "## Feature Glossary  \n",
    "- **Team**: The club the player belongs to.  \n",
    "- **Jugador**: Name of the player (not used directly in models, only as identifier).  \n",
    "- **Posición**: Role on the pitch (e.g., goalkeeper, defender, midfielder, forward).  \n",
    "- **Puntos**: Total points scored by the player (performance measure).  \n",
    "- **Precio**: Market price of the player in the fantasy game. Driven by supply and demand: if many users buy a player, price goes up; if many sell, price goes down.   \n",
    "- **PJ (Partidos Jugados)**: Number of matches played.  \n",
    "- **Casa**: Number of matches played at home.  \n",
    "- **Fuera**: Number of matches played away.  \n",
    "- **Media**: Average points per match."
   ]
  },
  {
   "cell_type": "code",
   "execution_count": 3,
   "metadata": {},
   "outputs": [
    {
     "data": {
      "text/html": [
       "<div>\n",
       "<style scoped>\n",
       "    .dataframe tbody tr th:only-of-type {\n",
       "        vertical-align: middle;\n",
       "    }\n",
       "\n",
       "    .dataframe tbody tr th {\n",
       "        vertical-align: top;\n",
       "    }\n",
       "\n",
       "    .dataframe thead th {\n",
       "        text-align: right;\n",
       "    }\n",
       "</style>\n",
       "<table border=\"1\" class=\"dataframe\">\n",
       "  <thead>\n",
       "    <tr style=\"text-align: right;\">\n",
       "      <th></th>\n",
       "      <th>Equipo</th>\n",
       "      <th>Jugador</th>\n",
       "      <th>Posición</th>\n",
       "      <th>Puntos</th>\n",
       "      <th>Precio</th>\n",
       "      <th>PJ</th>\n",
       "      <th>Casa</th>\n",
       "      <th>Fuera</th>\n",
       "      <th>Media</th>\n",
       "    </tr>\n",
       "  </thead>\n",
       "  <tbody>\n",
       "    <tr>\n",
       "      <th>0</th>\n",
       "      <td>Liverpool</td>\n",
       "      <td>Salah</td>\n",
       "      <td>Delantero</td>\n",
       "      <td>416</td>\n",
       "      <td>18120000</td>\n",
       "      <td>38</td>\n",
       "      <td>19</td>\n",
       "      <td>19</td>\n",
       "      <td>10.95</td>\n",
       "    </tr>\n",
       "    <tr>\n",
       "      <th>1</th>\n",
       "      <td>Chelsea</td>\n",
       "      <td>Cole Palmer</td>\n",
       "      <td>Centrocampista</td>\n",
       "      <td>340</td>\n",
       "      <td>17520000</td>\n",
       "      <td>37</td>\n",
       "      <td>19</td>\n",
       "      <td>18</td>\n",
       "      <td>9.19</td>\n",
       "    </tr>\n",
       "    <tr>\n",
       "      <th>2</th>\n",
       "      <td>Brentford FC</td>\n",
       "      <td>Mbeumo</td>\n",
       "      <td>Delantero</td>\n",
       "      <td>321</td>\n",
       "      <td>15670000</td>\n",
       "      <td>38</td>\n",
       "      <td>19</td>\n",
       "      <td>19</td>\n",
       "      <td>8.45</td>\n",
       "    </tr>\n",
       "    <tr>\n",
       "      <th>3</th>\n",
       "      <td>Manchester United</td>\n",
       "      <td>Bruno Fernandes</td>\n",
       "      <td>Centrocampista</td>\n",
       "      <td>309</td>\n",
       "      <td>15490000</td>\n",
       "      <td>36</td>\n",
       "      <td>18</td>\n",
       "      <td>18</td>\n",
       "      <td>8.58</td>\n",
       "    </tr>\n",
       "    <tr>\n",
       "      <th>4</th>\n",
       "      <td>Wolverhampton</td>\n",
       "      <td>Matheus Cunha</td>\n",
       "      <td>Delantero</td>\n",
       "      <td>299</td>\n",
       "      <td>14050000</td>\n",
       "      <td>33</td>\n",
       "      <td>16</td>\n",
       "      <td>17</td>\n",
       "      <td>9.06</td>\n",
       "    </tr>\n",
       "  </tbody>\n",
       "</table>\n",
       "</div>"
      ],
      "text/plain": [
       "              Equipo          Jugador        Posición  Puntos    Precio  PJ  \\\n",
       "0          Liverpool            Salah       Delantero     416  18120000  38   \n",
       "1            Chelsea      Cole Palmer  Centrocampista     340  17520000  37   \n",
       "2       Brentford FC           Mbeumo       Delantero     321  15670000  38   \n",
       "3  Manchester United  Bruno Fernandes  Centrocampista     309  15490000  36   \n",
       "4      Wolverhampton    Matheus Cunha       Delantero     299  14050000  33   \n",
       "\n",
       "   Casa  Fuera  Media  \n",
       "0    19     19  10.95  \n",
       "1    19     18   9.19  \n",
       "2    19     19   8.45  \n",
       "3    18     18   8.58  \n",
       "4    16     17   9.06  "
      ]
     },
     "execution_count": 3,
     "metadata": {},
     "output_type": "execute_result"
    }
   ],
   "source": [
    "df.head()"
   ]
  },
  {
   "cell_type": "code",
   "execution_count": 4,
   "metadata": {},
   "outputs": [
    {
     "name": "stdout",
     "output_type": "stream",
     "text": [
      "<class 'pandas.core.frame.DataFrame'>\n",
      "RangeIndex: 505 entries, 0 to 504\n",
      "Data columns (total 9 columns):\n",
      " #   Column    Non-Null Count  Dtype  \n",
      "---  ------    --------------  -----  \n",
      " 0   Equipo    505 non-null    object \n",
      " 1   Jugador   505 non-null    object \n",
      " 2   Posición  505 non-null    object \n",
      " 3   Puntos    505 non-null    int64  \n",
      " 4   Precio    505 non-null    int64  \n",
      " 5   PJ        505 non-null    int64  \n",
      " 6   Casa      505 non-null    int64  \n",
      " 7   Fuera     505 non-null    int64  \n",
      " 8   Media     505 non-null    float64\n",
      "dtypes: float64(1), int64(5), object(3)\n",
      "memory usage: 35.6+ KB\n"
     ]
    }
   ],
   "source": [
    "df.info()"
   ]
  },
  {
   "cell_type": "code",
   "execution_count": 5,
   "metadata": {},
   "outputs": [
    {
     "data": {
      "text/html": [
       "<div>\n",
       "<style scoped>\n",
       "    .dataframe tbody tr th:only-of-type {\n",
       "        vertical-align: middle;\n",
       "    }\n",
       "\n",
       "    .dataframe tbody tr th {\n",
       "        vertical-align: top;\n",
       "    }\n",
       "\n",
       "    .dataframe thead th {\n",
       "        text-align: right;\n",
       "    }\n",
       "</style>\n",
       "<table border=\"1\" class=\"dataframe\">\n",
       "  <thead>\n",
       "    <tr style=\"text-align: right;\">\n",
       "      <th></th>\n",
       "      <th>Puntos</th>\n",
       "      <th>Precio</th>\n",
       "      <th>PJ</th>\n",
       "      <th>Casa</th>\n",
       "      <th>Fuera</th>\n",
       "      <th>Media</th>\n",
       "    </tr>\n",
       "  </thead>\n",
       "  <tbody>\n",
       "    <tr>\n",
       "      <th>count</th>\n",
       "      <td>505.000000</td>\n",
       "      <td>5.050000e+02</td>\n",
       "      <td>505.000000</td>\n",
       "      <td>505.000000</td>\n",
       "      <td>505.000000</td>\n",
       "      <td>505.000000</td>\n",
       "    </tr>\n",
       "    <tr>\n",
       "      <th>mean</th>\n",
       "      <td>91.586139</td>\n",
       "      <td>2.798990e+06</td>\n",
       "      <td>18.833663</td>\n",
       "      <td>9.441584</td>\n",
       "      <td>9.392079</td>\n",
       "      <td>3.661525</td>\n",
       "    </tr>\n",
       "    <tr>\n",
       "      <th>std</th>\n",
       "      <td>80.605872</td>\n",
       "      <td>2.925560e+06</td>\n",
       "      <td>13.552809</td>\n",
       "      <td>6.863540</td>\n",
       "      <td>6.809244</td>\n",
       "      <td>2.166140</td>\n",
       "    </tr>\n",
       "    <tr>\n",
       "      <th>min</th>\n",
       "      <td>0.000000</td>\n",
       "      <td>2.900000e+05</td>\n",
       "      <td>0.000000</td>\n",
       "      <td>0.000000</td>\n",
       "      <td>0.000000</td>\n",
       "      <td>0.000000</td>\n",
       "    </tr>\n",
       "    <tr>\n",
       "      <th>25%</th>\n",
       "      <td>13.000000</td>\n",
       "      <td>8.000000e+05</td>\n",
       "      <td>4.000000</td>\n",
       "      <td>2.000000</td>\n",
       "      <td>2.000000</td>\n",
       "      <td>2.520000</td>\n",
       "    </tr>\n",
       "    <tr>\n",
       "      <th>50%</th>\n",
       "      <td>80.000000</td>\n",
       "      <td>1.900000e+06</td>\n",
       "      <td>20.000000</td>\n",
       "      <td>10.000000</td>\n",
       "      <td>10.000000</td>\n",
       "      <td>4.040000</td>\n",
       "    </tr>\n",
       "    <tr>\n",
       "      <th>75%</th>\n",
       "      <td>153.000000</td>\n",
       "      <td>3.510000e+06</td>\n",
       "      <td>32.000000</td>\n",
       "      <td>16.000000</td>\n",
       "      <td>16.000000</td>\n",
       "      <td>5.080000</td>\n",
       "    </tr>\n",
       "    <tr>\n",
       "      <th>max</th>\n",
       "      <td>416.000000</td>\n",
       "      <td>1.812000e+07</td>\n",
       "      <td>38.000000</td>\n",
       "      <td>19.000000</td>\n",
       "      <td>19.000000</td>\n",
       "      <td>10.950000</td>\n",
       "    </tr>\n",
       "  </tbody>\n",
       "</table>\n",
       "</div>"
      ],
      "text/plain": [
       "           Puntos        Precio          PJ        Casa       Fuera  \\\n",
       "count  505.000000  5.050000e+02  505.000000  505.000000  505.000000   \n",
       "mean    91.586139  2.798990e+06   18.833663    9.441584    9.392079   \n",
       "std     80.605872  2.925560e+06   13.552809    6.863540    6.809244   \n",
       "min      0.000000  2.900000e+05    0.000000    0.000000    0.000000   \n",
       "25%     13.000000  8.000000e+05    4.000000    2.000000    2.000000   \n",
       "50%     80.000000  1.900000e+06   20.000000   10.000000   10.000000   \n",
       "75%    153.000000  3.510000e+06   32.000000   16.000000   16.000000   \n",
       "max    416.000000  1.812000e+07   38.000000   19.000000   19.000000   \n",
       "\n",
       "            Media  \n",
       "count  505.000000  \n",
       "mean     3.661525  \n",
       "std      2.166140  \n",
       "min      0.000000  \n",
       "25%      2.520000  \n",
       "50%      4.040000  \n",
       "75%      5.080000  \n",
       "max     10.950000  "
      ]
     },
     "execution_count": 5,
     "metadata": {},
     "output_type": "execute_result"
    }
   ],
   "source": [
    "df.describe()"
   ]
  },
  {
   "cell_type": "markdown",
   "metadata": {},
   "source": [
    "## Research Questions and Methods\n",
    "\n",
    "### Question 1  \n",
    "**Is it possible to estimate a player’s price based on their position, team, and performance (points)?**  \n",
    "- **Possible features**: `Posición`, `Team`, `Puntos`, `PJ`.  \n",
    "- **Target**: `Precio` (continuous).  \n",
    "- **Best algorithm**:  \n",
    "  - Linear Regression (baseline).  \n",
    "  - Random Forest Regressor (if nonlinear effects are relevant).  \n",
    "- **Useful insights / conclusions**:  \n",
    "  - Helps understand which factors most influence player prices.  \n",
    "  - Can highlight if price is mostly performance-driven or influenced by team/position.  \n",
    "  - Useful for predicting price trends before the gameweek.  \n",
    "\n",
    "---\n",
    "\n",
    "### Question 2  \n",
    "**Is it possible to discover natural clusters of players without using position labels?**  \n",
    "- **Possible features**: `Precio`, `Puntos`, `Media`, `PJ`.  \n",
    "- **Target**: None (unsupervised).  \n",
    "- **Best algorithm**:  \n",
    "  - K-Means clustering (with feature scaling).  \n",
    "    - Use the **elbow method** to determine the optimal number of clusters.  \n",
    "  - Hierarchical clustering (suitable for small datasets).  \n",
    "- **Useful insights / conclusions**:  \n",
    "  - Can reveal hidden groupings of players based on performance and price.  \n",
    "  - Helps identify under- or over-valued players relative to their cluster.  \n",
    "  - Can inform transfer or selection strategies in fantasy football.  \n",
    "\n",
    "---\n",
    "\n",
    "### Question 3  \n",
    "**Is price (with other features, excluding points) a good indicator of whether a player performs above or below average?**  \n",
    "- **Possible features**: `Precio`, `Team`, `PJ`, `Casa`, `Fuera` (excluding `Puntos`).  \n",
    "- **Target**: Binary label = 1 if `Puntos > Media`, else 0.  \n",
    "- **Best algorithm**:  \n",
    "  - Logistic Regression (to assess statistical significance).  \n",
    "  - Random Forest Classifier (to capture nonlinear relationships).  \n",
    "- **Useful insights / conclusions**:  \n",
    "  - Determines if fantasy users’ buying/selling behavior (reflected in price) predicts actual performance.  \n",
    "  - Can reveal if high-priced players are truly better performers or just popular.  \n",
    "  - Helps validate the efficiency of the fantasy market.  \n"
   ]
  },
  {
   "cell_type": "code",
   "execution_count": 6,
   "metadata": {},
   "outputs": [],
   "source": [
    "import matplotlib.pyplot as plt\n",
    "from sklearn.cluster import KMeans\n",
    "from sklearn.preprocessing import StandardScaler\n",
    "# Load dataset (replace path with actual file)\n"
   ]
  },
  {
   "cell_type": "code",
   "execution_count": 7,
   "metadata": {},
   "outputs": [
    {
     "name": "stdout",
     "output_type": "stream",
     "text": [
      "<class 'pandas.core.frame.DataFrame'>\n",
      "RangeIndex: 505 entries, 0 to 504\n",
      "Data columns (total 9 columns):\n",
      " #   Column    Non-Null Count  Dtype  \n",
      "---  ------    --------------  -----  \n",
      " 0   Equipo    505 non-null    object \n",
      " 1   Jugador   505 non-null    object \n",
      " 2   Posición  505 non-null    object \n",
      " 3   Puntos    505 non-null    int64  \n",
      " 4   Precio    505 non-null    int64  \n",
      " 5   PJ        505 non-null    int64  \n",
      " 6   Casa      505 non-null    int64  \n",
      " 7   Fuera     505 non-null    int64  \n",
      " 8   Media     505 non-null    float64\n",
      "dtypes: float64(1), int64(5), object(3)\n",
      "memory usage: 35.6+ KB\n"
     ]
    }
   ],
   "source": [
    "df.info()"
   ]
  },
  {
   "cell_type": "code",
   "execution_count": 8,
   "metadata": {},
   "outputs": [
    {
     "name": "stdout",
     "output_type": "stream",
     "text": [
      "Average: 91.58613861386138\n"
     ]
    }
   ],
   "source": [
    "avg = df[\"Puntos\"].mean()\n",
    "print(\"Average:\", avg)"
   ]
  },
  {
   "cell_type": "code",
   "execution_count": 9,
   "metadata": {},
   "outputs": [
    {
     "data": {
      "text/plain": [
       "416"
      ]
     },
     "execution_count": 9,
     "metadata": {},
     "output_type": "execute_result"
    }
   ],
   "source": [
    "df[\"Puntos\"].max() "
   ]
  },
  {
   "cell_type": "code",
   "execution_count": 10,
   "metadata": {},
   "outputs": [
    {
     "data": {
      "text/plain": [
       "0"
      ]
     },
     "execution_count": 10,
     "metadata": {},
     "output_type": "execute_result"
    }
   ],
   "source": [
    "df[\"Puntos\"].min()"
   ]
  },
  {
   "cell_type": "code",
   "execution_count": 11,
   "metadata": {},
   "outputs": [
    {
     "data": {
      "text/plain": [
       "0      324.413861\n",
       "1      248.413861\n",
       "2      229.413861\n",
       "3      217.413861\n",
       "4      207.413861\n",
       "          ...    \n",
       "500    -91.586139\n",
       "501    -91.586139\n",
       "502    -91.586139\n",
       "503    -91.586139\n",
       "504    -91.586139\n",
       "Name: Puntos, Length: 505, dtype: float64"
      ]
     },
     "execution_count": 11,
     "metadata": {},
     "output_type": "execute_result"
    }
   ],
   "source": [
    "ud=df[\"Puntos\"]-avg\n",
    "ud\n"
   ]
  },
  {
   "cell_type": "code",
   "execution_count": 12,
   "metadata": {},
   "outputs": [
    {
     "name": "stdout",
     "output_type": "stream",
     "text": [
      "              Equipo          Jugador        Posición  Puntos    Precio  PJ  \\\n",
      "0          Liverpool            Salah       Delantero     416  18120000  38   \n",
      "1            Chelsea      Cole Palmer  Centrocampista     340  17520000  37   \n",
      "2       Brentford FC           Mbeumo       Delantero     321  15670000  38   \n",
      "3  Manchester United  Bruno Fernandes  Centrocampista     309  15490000  36   \n",
      "4      Wolverhampton    Matheus Cunha       Delantero     299  14050000  33   \n",
      "\n",
      "   Casa  Fuera  Media  \n",
      "0    19     19  10.95  \n",
      "1    19     18   9.19  \n",
      "2    19     19   8.45  \n",
      "3    18     18   8.58  \n",
      "4    16     17   9.06  \n"
     ]
    }
   ],
   "source": [
    "# Preview\n",
    "print(df.head())\n",
    "# Select useful features for clustering\n",
    "data = df[['Precio', 'Puntos', 'Media', \"PJ\"]].dropna()\n",
    "# Convert published_date to hour of day (feature engineering)\n",
    "#data['published_date'] = pd.to_datetime(data['published_date'])\n",
    "#data['hour'] = data['published_date'].dt.hour\n",
    "# Keep only features for clustering\n",
    "X = data[['Precio', 'Puntos', 'Media', \"PJ\"]]"
   ]
  },
  {
   "cell_type": "code",
   "execution_count": 13,
   "metadata": {},
   "outputs": [],
   "source": [
    "# One-hot encode categorical feature\n",
    "#incident_type = pd.get_dummies(df['issue_reported'], prefix='issue')\n",
    "# Combine with lat/lon/hour\n",
    "X = pd.concat([data[['Precio', 'Puntos', 'Media', \"PJ\"]]], axis=1)\n",
    "# Scale everything\n",
    "from sklearn.preprocessing import StandardScaler\n",
    "scaler = StandardScaler()\n",
    "X_scaled = scaler.fit_transform(X)"
   ]
  },
  {
   "cell_type": "code",
   "execution_count": 16,
   "metadata": {},
   "outputs": [],
   "source": [
    "# Choose number of clusters (k)\n",
    "k = 4\n",
    "kmeans = KMeans(n_clusters=k, random_state=42)\n",
    "clusters = kmeans.fit_predict(X_scaled)\n",
    "\n",
    "# Add cluster labels to data\n",
    "data['cluster'] = clusters"
   ]
  },
  {
   "cell_type": "code",
   "execution_count": 17,
   "metadata": {},
   "outputs": [
    {
     "data": {
      "image/png": "[encoded data removed]",
      "text/plain": [
       "<Figure size 720x432 with 1 Axes>"
      ]
     },
     "metadata": {
      "needs_background": "light"
     },
     "output_type": "display_data"
    }
   ],
   "source": [
    "plt.figure(figsize=(10,6))\n",
    "plt.scatter(data['Precio'], data['Puntos'], c=data['cluster'], cmap='tab10', s=10)\n",
    "plt.xlabel(\"Puntos\")\n",
    "plt.ylabel(\"Precio\")\n",
    "plt.title(\" \")\n",
    "plt.show()"
   ]
  },
  {
   "cell_type": "code",
   "execution_count": 18,
   "metadata": {},
   "outputs": [
    {
     "data": {
      "image/png": "[encoded data removed]",
      "text/plain": [
       "<Figure size 432x288 with 1 Axes>"
      ]
     },
     "metadata": {
      "needs_background": "light"
     },
     "output_type": "display_data"
    }
   ],
   "source": [
    "inertia = []\n",
    "for k in range(2, 11):\n",
    "    kmeans = KMeans(n_clusters=k, random_state=42)\n",
    "    kmeans.fit(X_scaled)\n",
    "    inertia.append(kmeans.inertia_)\n",
    "plt.plot(range(2, 11), inertia, marker='o')\n",
    "plt.xlabel(\"Number of Clusters (k)\")\n",
    "plt.ylabel(\"Inertia (Within-cluster Sum of Squares)\")\n",
    "plt.title(\"Elbow Method for Optimal k\")\n",
    "plt.show()"
   ]
  },
  {
   "cell_type": "code",
   "execution_count": null,
   "metadata": {},
   "outputs": [],
   "source": []
  }
 ],
 "metadata": {
  "kernelspec": {
   "display_name": "Python 3",
   "language": "python",
   "name": "python3"
  },
  "language_info": {
   "codemirror_mode": {
    "name": "ipython",
    "version": 3
   },
   "file_extension": ".py",
   "mimetype": "text/x-python",
   "name": "python",
   "nbconvert_exporter": "python",
   "pygments_lexer": "ipython3",
   "version": "3.7.0"
  }
 },
 "nbformat": 4,
 "nbformat_minor": 5
}
